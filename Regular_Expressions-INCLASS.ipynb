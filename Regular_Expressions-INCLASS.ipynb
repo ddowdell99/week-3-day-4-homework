{
 "cells": [
  {
   "cell_type": "markdown",
   "metadata": {},
   "source": [
    "# Regular Expressions"
   ]
  },
  {
   "cell_type": "markdown",
   "metadata": {},
   "source": [
    "# Tasks today:\n",
    "1) <b>Importing</b> <br>\n",
    "2) <b>Using Regular Expressions</b> <br>\n",
    " &nbsp;&nbsp;&nbsp;&nbsp; a) re.compile() <br>\n",
    " &nbsp;&nbsp;&nbsp;&nbsp; b) re.match() <br>\n",
    " &nbsp;&nbsp;&nbsp;&nbsp; c) re.findall() <br>\n",
    " &nbsp;&nbsp;&nbsp;&nbsp; d) re.search() <br>\n",
    "3) <b>Sets</b> <br>\n",
    " &nbsp;&nbsp;&nbsp;&nbsp; a) Integer Ranges <br>\n",
    " &nbsp;&nbsp;&nbsp;&nbsp; b) Character Ranges <br>\n",
    "4) <b>Counting Occurences</b> <br>\n",
    " &nbsp;&nbsp;&nbsp;&nbsp; a) {x} <br>\n",
    " &nbsp;&nbsp;&nbsp;&nbsp; b) {, x} <br>\n",
    " &nbsp;&nbsp;&nbsp;&nbsp; c) {?} <br>\n",
    " &nbsp;&nbsp;&nbsp;&nbsp; d) {*} <br>\n",
    " &nbsp;&nbsp;&nbsp;&nbsp; e) {+} <br>\n",
    "5) <b>In-Class Exercise #1</b> <br>\n",
    "6) <b>Escaping Characters</b> <br>\n",
    "7) <b>Grouping</b> <br>\n",
    "8) <b>In-Class Exercise #2</b> <br>\n",
    "9) <b>Opening a File</b> <br>\n",
    " &nbsp;&nbsp;&nbsp;&nbsp; a) open() <br>\n",
    " &nbsp;&nbsp;&nbsp;&nbsp; b) with open() <br>\n",
    " &nbsp;&nbsp;&nbsp;&nbsp; c) re.match() <br>\n",
    " &nbsp;&nbsp;&nbsp;&nbsp; d) re.search() <br>\n",
    " &nbsp;&nbsp;&nbsp;&nbsp; e) Store the String in a Variable <br>\n",
    "10) <b>Regex Project</b> <br>"
   ]
  },
  {
   "cell_type": "markdown",
   "metadata": {},
   "source": [
    "### Importing <br>\n",
    "<p>Regular Expressions are universal throughout most programming languages... They are generally imported through the module 're'.</p>"
   ]
  },
  {
   "cell_type": "code",
   "execution_count": 19,
   "metadata": {},
   "outputs": [],
   "source": [
    "# import re\n",
    "import re\n",
    "\n"
   ]
  },
  {
   "cell_type": "markdown",
   "metadata": {},
   "source": [
    "### Using Regular Expressions <br>\n",
    "<p>Regular expressions give us the ability to search for patterns within text, strings, files, etc. They serve several uses, such as; security measures, searching, filtering, pattern recognition, and more...</p>"
   ]
  },
  {
   "cell_type": "markdown",
   "metadata": {},
   "source": [
    "##### re.compile()"
   ]
  },
  {
   "cell_type": "code",
   "execution_count": 3,
   "metadata": {},
   "outputs": [
    {
     "name": "stdout",
     "output_type": "stream",
     "text": [
      "re.compile('abcd')\n",
      "<class 're.Pattern'>\n"
     ]
    }
   ],
   "source": [
    "# using compile, pre determines the string to be used in regular expression methods\n",
    "\n",
    "pat = re.compile('abcd')\n",
    "\n",
    "print(pat)\n",
    "print(type(pat))"
   ]
  },
  {
   "cell_type": "markdown",
   "metadata": {},
   "source": [
    "##### re.match()"
   ]
  },
  {
   "cell_type": "code",
   "execution_count": 4,
   "metadata": {},
   "outputs": [
    {
     "name": "stdout",
     "output_type": "stream",
     "text": [
      "<re.Match object; span=(0, 4), match='abcd'>\n",
      "(0, 4)\n"
     ]
    },
    {
     "data": {
      "text/plain": [
       "'abcd'"
      ]
     },
     "execution_count": 4,
     "metadata": {},
     "output_type": "execute_result"
    }
   ],
   "source": [
    "sentence = 'abcdecgjt123456adf6d54f65ad' #only matches characters at beginning of string\n",
    "\n",
    "my_match = pat.match(sentence)\n",
    "print(my_match)\n",
    "\n",
    "# Accessing the span of the match\n",
    "print(my_match.span()) #tells you location of match\n",
    "sentence[my_match.span()[0]:my_match.span()[1]]\n"
   ]
  },
  {
   "cell_type": "markdown",
   "metadata": {},
   "source": [
    "##### re.findall()"
   ]
  },
  {
   "cell_type": "code",
   "execution_count": 5,
   "metadata": {},
   "outputs": [
    {
     "name": "stdout",
     "output_type": "stream",
     "text": [
      "['abcd', 'abcd', 'abcd']\n"
     ]
    }
   ],
   "source": [
    "found = pat.findall('123abcd abcd123 abc abcaba abcd 123')\n",
    "print(found)"
   ]
  },
  {
   "cell_type": "markdown",
   "metadata": {},
   "source": [
    "##### re.search()"
   ]
  },
  {
   "cell_type": "code",
   "execution_count": 6,
   "metadata": {},
   "outputs": [
    {
     "name": "stdout",
     "output_type": "stream",
     "text": [
      "<re.Match object; span=(5, 9), match='abcd'>\n",
      "(5, 9)\n"
     ]
    },
    {
     "data": {
      "text/plain": [
       "'abcd'"
      ]
     },
     "execution_count": 6,
     "metadata": {},
     "output_type": "execute_result"
    }
   ],
   "source": [
    "sentence = '13215abcdecgjt123456adf6d54f65ad' #allows you to search through in string, not just in beginning\n",
    "\n",
    "my_match = pat.search(sentence)\n",
    "print(my_match)\n",
    "\n",
    "# Accessing the span of the match\n",
    "print(my_match.span()) #tells you location of match\n",
    "sentence[my_match.span()[0]:my_match.span()[1]]"
   ]
  },
  {
   "cell_type": "markdown",
   "metadata": {},
   "source": [
    "### Sets <br>\n",
    "<p>The following cells will allow you to use regular expressions to search for certain values within a range such as numbers 1 through 4.</p>"
   ]
  },
  {
   "cell_type": "markdown",
   "metadata": {},
   "source": [
    "##### [a-z] or [A-Z] - any lowercase/uppercase letters from a to z<br/>[^2] - anything that's not 2"
   ]
  },
  {
   "cell_type": "markdown",
   "metadata": {},
   "source": [
    "##### Integer Ranges"
   ]
  },
  {
   "cell_type": "code",
   "execution_count": 7,
   "metadata": {},
   "outputs": [
    {
     "name": "stdout",
     "output_type": "stream",
     "text": [
      "['265', '265']\n"
     ]
    }
   ],
   "source": [
    "pat_int = re.compile('[1-3][1-9][1-8]') # looking for 0211 and then next number can be 2 through 8\n",
    "\n",
    "#can have multiple sets using []\n",
    "\n",
    "my_match2 = pat_int.findall('265265') # once a match is found it can not be used for another match, basically not able to be used \n",
    "print(my_match2)\n"
   ]
  },
  {
   "cell_type": "markdown",
   "metadata": {},
   "source": [
    "##### Character Ranges"
   ]
  },
  {
   "cell_type": "code",
   "execution_count": 20,
   "metadata": {},
   "outputs": [
    {
     "name": "stdout",
     "output_type": "stream",
     "text": [
      "['He', 'll', 'Th', 'er', 'Mr', 'An', 'de', 'rs', 'on']\n"
     ]
    }
   ],
   "source": [
    "pat_char = re.compile('[A-Za-z][a-z]')\n",
    "found = pat_char.findall('Hello There Mr.Anderson')\n",
    "print(found)"
   ]
  },
  {
   "cell_type": "markdown",
   "metadata": {},
   "source": [
    "### Counting Occurences"
   ]
  },
  {
   "cell_type": "markdown",
   "metadata": {},
   "source": [
    "##### {x} - something that occurs {num_of_times}"
   ]
  },
  {
   "cell_type": "code",
   "execution_count": 9,
   "metadata": {},
   "outputs": [
    {
     "name": "stdout",
     "output_type": "stream",
     "text": [
      "['Hell', 'Ther', 'Mr', 'Ande']\n"
     ]
    }
   ],
   "source": [
    "pat = re.compile('[A-Z][a-z]{1,3}') #{} tells how many you want to find of it, can use range\n",
    "found = pat.findall('Hello There Mr.Anderson')\n",
    "print(found)"
   ]
  },
  {
   "cell_type": "markdown",
   "metadata": {},
   "source": [
    "##### {x, x} - something that occurs between x and x times"
   ]
  },
  {
   "cell_type": "code",
   "execution_count": null,
   "metadata": {},
   "outputs": [],
   "source": []
  },
  {
   "cell_type": "markdown",
   "metadata": {},
   "source": [
    "##### ? - something that occurs 0 or 1 time"
   ]
  },
  {
   "cell_type": "code",
   "execution_count": 10,
   "metadata": {},
   "outputs": [
    {
     "name": "stdout",
     "output_type": "stream",
     "text": [
      "['Ms']\n"
     ]
    }
   ],
   "source": [
    "pat = re.compile('Mr?s') # saying that r is optional (but can only happen once)\n",
    "found = pat.findall('Hello There Mr.Anderson, it is Ms.Smith, is Mrrs. Anderson home?')\n",
    "print(found)"
   ]
  },
  {
   "cell_type": "markdown",
   "metadata": {},
   "source": [
    "##### * - something that occurs at least 0 times"
   ]
  },
  {
   "cell_type": "code",
   "execution_count": 11,
   "metadata": {},
   "outputs": [
    {
     "name": "stdout",
     "output_type": "stream",
     "text": [
      "['Ms', 'Mrs']\n"
     ]
    }
   ],
   "source": [
    "pat = re.compile('Mr*s') # saying that r can happen more than once, or not at all\n",
    "found = pat.findall('Hello There Mr.Anderson, it is Ms.Smith, is Mrs. Anderson home?')\n",
    "print(found)"
   ]
  },
  {
   "cell_type": "markdown",
   "metadata": {},
   "source": [
    "##### + - something that occurs at least once"
   ]
  },
  {
   "cell_type": "code",
   "execution_count": 12,
   "metadata": {},
   "outputs": [
    {
     "name": "stdout",
     "output_type": "stream",
     "text": [
      "['Mrs']\n"
     ]
    }
   ],
   "source": [
    "pat = re.compile('Mr+s') # saying that r can happen more than once and has to happen ONCE\n",
    "found = pat.findall('Hello There Mr.Anderson, it is Ms.Smith, is Mrs. Anderson home?')\n",
    "print(found)"
   ]
  },
  {
   "cell_type": "markdown",
   "metadata": {},
   "source": [
    "##### In-class exercise 1: \n",
    "\n",
    "Use a regular expression to find every number in the given string"
   ]
  },
  {
   "cell_type": "code",
   "execution_count": 13,
   "metadata": {},
   "outputs": [
    {
     "name": "stdout",
     "output_type": "stream",
     "text": [
      "['10909090', '1', '2']\n"
     ]
    }
   ],
   "source": [
    "my_string = \"This string has 10909090 numbers, but it is only 1 string. I hope you solve this 2day.\"\n",
    "\n",
    "# Output: ['10909090','1',2]\n",
    "\n",
    "my_string2 = re.compile('[0-9]+')\n",
    "found = my_string2.findall(my_string)\n",
    "print(found)\n"
   ]
  },
  {
   "cell_type": "markdown",
   "metadata": {},
   "source": [
    "### Escaping Characters"
   ]
  },
  {
   "cell_type": "markdown",
   "metadata": {},
   "source": [
    "##### \\w - look for any Unicode character<br/>\\W - look for anything that isnt a Unicode character\n",
    "\n",
    "[History on Unicode](http://unicode.org/standard/WhatIsUnicode.html)\n",
    "\n",
    "[More on Unicode Characters](https://en.wikipedia.org/wiki/List_of_Unicode_characters)"
   ]
  },
  {
   "cell_type": "code",
   "execution_count": 14,
   "metadata": {},
   "outputs": [
    {
     "name": "stdout",
     "output_type": "stream",
     "text": [
      "['This', 'is', 'a', 'sentence!', 'Hello?', '1324']\n",
      "[' ', ' ', ' ', '! ', '? ']\n"
     ]
    }
   ],
   "source": [
    "pat1 = re.compile('[\\w!?]+') # + is good for grouping together things\n",
    "pat2 = re.compile('\\W+')\n",
    "\n",
    "found1 = pat1.findall('This is a sentence! Hello? 1324')\n",
    "print(found1)\n",
    "\n",
    "found2 = pat2.findall('This is a sentence! Hello? 1324')\n",
    "print(found2)"
   ]
  },
  {
   "cell_type": "markdown",
   "metadata": {},
   "source": [
    "##### \\d - look for any digit 0-9<br/>\\D - look for anything that isnt a digit"
   ]
  },
  {
   "cell_type": "code",
   "execution_count": 15,
   "metadata": {},
   "outputs": [
    {
     "name": "stdout",
     "output_type": "stream",
     "text": [
      "['6th', '10th', '2022']\n",
      "['Today is the ', 'th day of the ', 'th month! The year is ', '.']\n"
     ]
    }
   ],
   "source": [
    "pat3 = re.compile('\\d+[thrd]{0,2}') # + is good for grouping together things\n",
    "pat4 = re.compile('\\D+')\n",
    "\n",
    "found3 = pat3.findall('Today is the 6th day of the 10th month! The year is 2022.')\n",
    "print(found3)\n",
    "\n",
    "found4 = pat4.findall('Today is the 6th day of the 10th month! The year is 2022.')\n",
    "print(found4)"
   ]
  },
  {
   "cell_type": "markdown",
   "metadata": {},
   "source": [
    "##### \\s - look for any white space<br/>\\S - look for anything that isnt whitespace"
   ]
  },
  {
   "cell_type": "code",
   "execution_count": 16,
   "metadata": {},
   "outputs": [
    {
     "name": "stdout",
     "output_type": "stream",
     "text": [
      "[' ', ' ', ' ', ' ', ' ', ' ', ' ', ' ', ' ', ' ', ' ', ' ']\n",
      "['Today', 'is', 'the', '6th', 'day', 'of', 'the', '10th', 'month!', 'The', 'year', 'is', '2022.']\n"
     ]
    }
   ],
   "source": [
    "pat3 = re.compile('\\s+') # + is good for grouping together things\n",
    "pat4 = re.compile('\\S+')\n",
    "\n",
    "found3 = pat3.findall('Today is the 6th day of the 10th month! The year is 2022.')\n",
    "print(found3)\n",
    "\n",
    "found4 = pat4.findall('Today is the 6th day of the 10th month! The year is 2022.')\n",
    "print(found4)"
   ]
  },
  {
   "cell_type": "markdown",
   "metadata": {},
   "source": [
    "##### \\b - look for boundaries or edges of a word<br/>\\B - look for anything that isnt a boundary"
   ]
  },
  {
   "cell_type": "code",
   "execution_count": 17,
   "metadata": {},
   "outputs": [
    {
     "name": "stdout",
     "output_type": "stream",
     "text": [
      "['shoha']\n",
      "['shoha']\n"
     ]
    }
   ],
   "source": [
    "bound = re.compile(r'\\bshoha\\b') # r can be used as raw string. all characters are literal\n",
    "not_bound = re.compile(r'\\Bshoha\\B')\n",
    "\n",
    "found1 = bound.findall('   shoha   ')\n",
    "found2 = not_bound.findall('nshohan')\n",
    "\n",
    "print(found1)\n",
    "print(found2)"
   ]
  },
  {
   "cell_type": "markdown",
   "metadata": {},
   "source": [
    "### Grouping"
   ]
  },
  {
   "cell_type": "code",
   "execution_count": 18,
   "metadata": {},
   "outputs": [
    {
     "name": "stdout",
     "output_type": "stream",
     "text": [
      "[('Max', 'Smith'), ('Sam', 'Darnold'), ('LeBron', 'James'), ('Michael', 'Jordan'), ('Patrick', 'McCormick')]\n",
      "Max\n",
      "Max Smith\n",
      "Not a valid name!\n",
      "Sam\n",
      "Sam Darnold\n",
      "LeBron\n",
      "LeBron James\n",
      "Michael\n",
      "Michael Jordan\n",
      "Patrick\n",
      "Patrick McCormick\n"
     ]
    }
   ],
   "source": [
    "my_string = 'Max Smith, aaron rodgers, Sam Darnold, LeBron James, Michael Jordan, Patrick McCormick'\n",
    "\n",
    "# to add a group name add:\n",
    "# (?P<name>)\n",
    "\n",
    "name_pat = re.compile('(?P<first>[A-Z][a-zA-z]+) (?P<last>[A-Z][a-zA-z]+)')\n",
    "found = name_pat.findall(my_string)\n",
    "print(found)\n",
    "\n",
    "my_list = my_string.split(', ')\n",
    "for name in my_list:\n",
    "    match = name_pat.search(name)\n",
    "    if match:\n",
    "        print(match.group(1)) # select specific group number\n",
    "        print(match.group()) # show entire match string\n",
    "    else:\n",
    "        print('Not a valid name!')\n"
   ]
  },
  {
   "cell_type": "markdown",
   "metadata": {},
   "source": [
    "##### In-class Exercise 2:\n",
    "\n",
    "Write a function using regular expressions to find the domain name in the given email addresses (and return None for the invalid email addresses)<br><b>HINT: Use '|' for either or</b>"
   ]
  },
  {
   "cell_type": "code",
   "execution_count": 19,
   "metadata": {},
   "outputs": [
    {
     "name": "stdout",
     "output_type": "stream",
     "text": [
      "None\n",
      "gmail.com\n",
      "None\n",
      "g6.org\n",
      "None\n"
     ]
    }
   ],
   "source": [
    "my_emails = [\"jordanw@codingtemple.orgcom\", \"pocohontas1776@gmail.com\", \"helloworld@aol..com\",\n",
    "             \"yourfavoriteband@g6.org\", \"@codingtemple.com\"]\n",
    "\n",
    "# You can also use the $ at the end of your compile expression -- this stops the search\n",
    "\n",
    "#.com OR .org => com|org\n",
    "\n",
    "#Expected output:\n",
    "#None\n",
    "#pocohontas1776@gmail.com\n",
    "#None\n",
    "#yourfavoriteband@g6.org\n",
    "#None\n",
    "\n",
    "email_pat = re.compile('(?P<username>[A-Za-z0-9])+[@](?P<domain_name>[A-Za-z0-9]+[.]{1}(com|org)$)') #use (|) for OR an add $ to stop\n",
    "for email in my_emails:\n",
    "    match = email_pat.search(email)\n",
    "    if match:\n",
    "        print(match.group('domain_name'))\n",
    "    else:\n",
    "        print('None')\n"
   ]
  },
  {
   "cell_type": "markdown",
   "metadata": {},
   "source": [
    "### Opening a File <br>\n",
    "<p>Python gives us a couple ways to import files, below are the two used most often.</p>"
   ]
  },
  {
   "cell_type": "markdown",
   "metadata": {},
   "source": [
    "##### open()"
   ]
  },
  {
   "cell_type": "code",
   "execution_count": 86,
   "metadata": {},
   "outputs": [
    {
     "name": "stdout",
     "output_type": "stream",
     "text": [
      "<_io.TextIOWrapper name='names.txt' mode='r' encoding='cp1252'>\n",
      "<class '_io.TextIOWrapper'>\n",
      "Hawkins, Derek\tderek@codingtemple.com\t(555) 555-5555\tTeacher, Coding Temple\t@derekhawkins\n",
      "Zhai, Mo\tmozhai@codingtemple.com\t(555) 555-5554\tTeacher, Coding Temple\n",
      "Johnson, Joe\tjoejohnson@codingtemple.com\t\tJohson, Joe\n",
      "Osterberg, Sven-Erik\tgovernor@norrbotten.co.se\t\tGovernor, Norrbotten\t@sverik\n",
      ", Tim\ttim@killerrabbit.com\t\tEnchanter, Killer Rabbit Cave\n",
      "Butz, Ryan\tryanb@codingtemple.com\t(555) 555-5543\tCEO, Coding Temple\t@ryanbutz\n",
      "Doctor, The\tdoctor+companion@tardis.co.uk\t\tTime Lord, Gallifrey\n",
      "Exampleson, Example\tme@example.com\t555-555-5552\tExample, Example Co.\t@example\n",
      "Pael, Ripal\tripalp@codingtemple.com\t(555) 555-5553\tTeacher, Coding Temple\t@ripalp\n",
      "Vader, Darth\tdarth-vader@empire.gov\t(555) 555-4444\tSith Lord, Galactic Empire\t@darthvader\n",
      "Fernandez de la Vega Sanz, Maria Teresa\tmtfvs@spain.gov\t\tFirst Deputy Prime Minister, Spanish Gov\n",
      "\n"
     ]
    }
   ],
   "source": [
    "f = open('names.txt')\n",
    "\n",
    "print(f)\n",
    "print(type(f))\n",
    "data = f.read()\n",
    "# lines = f.readlines()\n",
    "\n",
    "f.close() # should close right after you have obtained data\n",
    "\n",
    "print(data)\n",
    "# print(lines)"
   ]
  },
  {
   "cell_type": "markdown",
   "metadata": {},
   "source": [
    "##### with open()"
   ]
  },
  {
   "cell_type": "code",
   "execution_count": 85,
   "metadata": {},
   "outputs": [
    {
     "ename": "IndentationError",
     "evalue": "expected an indented block (2034770038.py, line 3)",
     "output_type": "error",
     "traceback": [
      "\u001b[1;36m  Input \u001b[1;32mIn [85]\u001b[1;36m\u001b[0m\n\u001b[1;33m    #     print(data)\u001b[0m\n\u001b[1;37m                     ^\u001b[0m\n\u001b[1;31mIndentationError\u001b[0m\u001b[1;31m:\u001b[0m expected an indented block\n"
     ]
    }
   ],
   "source": [
    "with open('names.txt') as f: # USE this as it automatically closes after you un-indent\n",
    "#     data = f.readlines()\n",
    "#     print(data)"
   ]
  },
  {
   "cell_type": "markdown",
   "metadata": {},
   "source": [
    "##### re.match()"
   ]
  },
  {
   "cell_type": "code",
   "execution_count": 22,
   "metadata": {},
   "outputs": [
    {
     "ename": "TypeError",
     "evalue": "expected string or bytes-like object",
     "output_type": "error",
     "traceback": [
      "\u001b[1;31m---------------------------------------------------------------------------\u001b[0m",
      "\u001b[1;31mTypeError\u001b[0m                                 Traceback (most recent call last)",
      "Cell \u001b[1;32mIn [22], line 6\u001b[0m\n\u001b[0;32m      1\u001b[0m \u001b[39m# pat = re.compile('stringgoeshere')\u001b[39;00m\n\u001b[0;32m      2\u001b[0m \u001b[39m# match = pat.match('string') # how we've been doing it\u001b[39;00m\n\u001b[0;32m      3\u001b[0m \n\u001b[0;32m      4\u001b[0m \u001b[39m# re.match(what you put in pat, string you want to match to)\u001b[39;00m\n\u001b[1;32m----> 6\u001b[0m \u001b[39mprint\u001b[39m(re\u001b[39m.\u001b[39mmatch(\u001b[39m'\u001b[39m\u001b[39m[A-Z][a-z]+, [A-Z][a-z]+\u001b[39m\u001b[39m'\u001b[39m, data))\n",
      "File \u001b[1;32mc:\\Users\\diant\\AppData\\Local\\Programs\\Python\\Python310\\lib\\re.py:190\u001b[0m, in \u001b[0;36mmatch\u001b[1;34m(pattern, string, flags)\u001b[0m\n\u001b[0;32m    187\u001b[0m \u001b[39mdef\u001b[39;00m \u001b[39mmatch\u001b[39m(pattern, string, flags\u001b[39m=\u001b[39m\u001b[39m0\u001b[39m):\n\u001b[0;32m    188\u001b[0m     \u001b[39m\"\"\"Try to apply the pattern at the start of the string, returning\u001b[39;00m\n\u001b[0;32m    189\u001b[0m \u001b[39m    a Match object, or None if no match was found.\"\"\"\u001b[39;00m\n\u001b[1;32m--> 190\u001b[0m     \u001b[39mreturn\u001b[39;00m _compile(pattern, flags)\u001b[39m.\u001b[39;49mmatch(string)\n",
      "\u001b[1;31mTypeError\u001b[0m: expected string or bytes-like object"
     ]
    }
   ],
   "source": [
    "# pat = re.compile('stringgoeshere')\n",
    "# match = pat.match('string') # how we've been doing it\n",
    "\n",
    "# re.match(what you put in pat, string you want to match to)\n",
    "\n",
    "print(re.match('[A-Z][a-z]+, [A-Z][a-z]+', data))"
   ]
  },
  {
   "cell_type": "markdown",
   "metadata": {},
   "source": [
    "##### re.search()"
   ]
  },
  {
   "cell_type": "code",
   "execution_count": 26,
   "metadata": {},
   "outputs": [
    {
     "name": "stdout",
     "output_type": "stream",
     "text": [
      "<re.Match object; span=(76, 89), match='@derekhawkins'>\n"
     ]
    }
   ],
   "source": [
    "print(re.search(r'\\B@[A-Za-z0-9]+', data))"
   ]
  },
  {
   "cell_type": "markdown",
   "metadata": {},
   "source": [
    "##### Store the String to a Variable"
   ]
  },
  {
   "cell_type": "code",
   "execution_count": null,
   "metadata": {},
   "outputs": [],
   "source": [
    "pattern = input('What are you looking for? ')\n",
    "found = re.search(pattern, data)\n",
    "print(found)"
   ]
  },
  {
   "cell_type": "markdown",
   "metadata": {},
   "source": [
    "### In-Class Exercise #3 <br>\n",
    "<p>Print each persons name and twitter handle, using groups, should look like:</p>\n",
    "<p>==============<br>\n",
    "   Full Name / Twitter<br>\n",
    "   ==============</p>\n",
    "Derek Hawkins / @derekhawkins\n",
    "\n",
    " Erik Sven-Osterberg / @sverik\n",
    "\n",
    " Ryan Butz / @ryanbutz\n",
    "\n",
    " Example Exampleson / @example\n",
    "\n",
    " Ripal Pael / @ripalp\n",
    "\n",
    " Darth Vader / @darthvader"
   ]
  },
  {
   "cell_type": "code",
   "execution_count": 38,
   "metadata": {
    "scrolled": true
   },
   "outputs": [
    {
     "name": "stdout",
     "output_type": "stream",
     "text": [
      "Derek Hawkins / @derekhawkins\n",
      "Sven-Erik Osterberg / @sverik\n",
      "Ryan Butz / @ryanbutz\n",
      "Example Exampleson / @example\n",
      "Ripal Pael / @ripalp\n",
      "Darth Vader / @darthvader\n"
     ]
    }
   ],
   "source": [
    "import re\n",
    "\n",
    "with open('names.txt') as f:\n",
    "    data = f.readlines()\n",
    "\n",
    "data_pat = re.compile('(?P<last_name>[A-Z][a-z]+)[,]\\s(?P<first_name>[A-Z][a-z-A-Z]+)\\t(?P<user_email>[a-z-]+)[@](?P<email_domain>[a-z]+)[.](com|gov|co.se)\\t+(?P<phone_number>[(]?[0-9]+[)]?[\\s]?[0-9-]+)?\\t(?P<occupation>[A-Z][A-Za-z\\s]+),\\s(?P<work_place>[A-Z][a-z\\sA-Z.]+)(?P<twitter_handle>@[a-z]+)')\n",
    "for datum in data:\n",
    "    match_lt = data_pat.match(str(datum))\n",
    "    if match_lt:\n",
    "        print(match_lt.group('first_name'),end=' ')\n",
    "        print(match_lt.group('last_name'),end=' / ')\n",
    "        print(match_lt.group('twitter_handle'))\n",
    "\n",
    "# Sven's (Erik's) name shows up as Sven-Erik Osterberg in the text document, so not sure if I did something wrong here?"
   ]
  },
  {
   "cell_type": "markdown",
   "metadata": {},
   "source": [
    "### Regex project\n",
    "\n",
    "Use python to read the file regex_test.txt and print the last name on each line using regular expressions and groups (return None for names with no first and last name, or names that aren't properly capitalized)\n",
    "##### Hint: use with open() and readlines()"
   ]
  },
  {
   "cell_type": "code",
   "execution_count": null,
   "metadata": {},
   "outputs": [],
   "source": [
    "\"\"\"\n",
    "Expected Output\n",
    "Abraham Lincoln\n",
    "Andrew P Garfield\n",
    "Connor Milliken\n",
    "Jordan Alexander Williams\n",
    "None\n",
    "None\n",
    "\"\"\""
   ]
  },
  {
   "cell_type": "code",
   "execution_count": 37,
   "metadata": {},
   "outputs": [
    {
     "name": "stdout",
     "output_type": "stream",
     "text": [
      "Expected Output:\n",
      "\n",
      "Abraham Lincoln\n",
      "Andrew P Garfield\n",
      "Connor Milliken\n",
      "Jordan Alexander Williams\n",
      "None\n",
      "None\n"
     ]
    }
   ],
   "source": [
    "import re\n",
    "\n",
    "with open('regex_test.txt') as f:\n",
    "    data = f.readlines()\n",
    "    \n",
    "names_pat = re.compile('(?P<first_name>[A-Z][a-z]+\\s)(?P<middle>[A-Z][a-z]{0,10}\\s)?([A-Z][a-z]+$)')\n",
    "print('Expected Output:\\n')\n",
    "for name in data:\n",
    "    match = names_pat.match(str(name))\n",
    "    try:\n",
    "        if match.group(2):\n",
    "            print(match.group('first_name'), end='')\n",
    "            print(match.group(2), end= '')\n",
    "            print(match.group(3))\n",
    "        elif match.group(2) == None:\n",
    "            print(match.group('first_name'), end='')\n",
    "            print(match.group(3))\n",
    "    except:\n",
    "        print('None')\n",
    "        \n",
    "# honestly... did NOT want to use a try and except here, but for some reason it still works. Any guidance on why it errors out without try/except?"
   ]
  }
 ],
 "metadata": {
  "kernelspec": {
   "display_name": "Python 3 (ipykernel)",
   "language": "python",
   "name": "python3"
  },
  "language_info": {
   "codemirror_mode": {
    "name": "ipython",
    "version": 3
   },
   "file_extension": ".py",
   "mimetype": "text/x-python",
   "name": "python",
   "nbconvert_exporter": "python",
   "pygments_lexer": "ipython3",
   "version": "3.10.6"
  },
  "vscode": {
   "interpreter": {
    "hash": "87220f4e606ddb4011a300182c63ab1cb1c388f3c54245acea6270daedab6473"
   }
  }
 },
 "nbformat": 4,
 "nbformat_minor": 2
}
